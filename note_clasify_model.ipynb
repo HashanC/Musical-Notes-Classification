{
 "cells": [
  {
   "cell_type": "code",
   "execution_count": 2,
   "metadata": {},
   "outputs": [],
   "source": [
    "import cv2\n",
    "import random\n",
    "import imutils\n",
    "from glob import glob\n",
    "from sklearn.model_selection import train_test_split\n",
    "from sklearn.neighbors import KNeighborsClassifier\n",
    "from sklearn.neural_network import MLPClassifier\n",
    "from sklearn import svm\n",
    "import numpy as np\n",
    "import matplotlib.pyplot as plt\n",
    "import pickle\n",
    "import os\n",
    "import matplotlib.pyplot as plt"
   ]
  },
  {
   "cell_type": "code",
   "execution_count": 3,
   "metadata": {},
   "outputs": [],
   "source": [
    "dataset_path = 'Notes'\n",
    "target_img_size = (100, 100)\n",
    "sample_count = 50"
   ]
  },
  {
   "cell_type": "code",
   "execution_count": 4,
   "metadata": {},
   "outputs": [],
   "source": [
    "def extract_raw_pixels(img):\n",
    "    resized = cv2.resize(img, target_img_size)\n",
    "    return resized.flatten()\n"
   ]
  },
  {
   "cell_type": "code",
   "execution_count": 5,
   "metadata": {},
   "outputs": [],
   "source": [
    "def extract_hog_features(img):\n",
    "    img = cv2.resize(img, target_img_size)\n",
    "    win_size = (100, 100)\n",
    "    cell_size = (4, 4)\n",
    "    block_size_in_cells = (2, 2)\n",
    "\n",
    "    block_size = (block_size_in_cells[1] * cell_size[1],\n",
    "                  block_size_in_cells[0] * cell_size[0])\n",
    "    block_stride = (cell_size[1], cell_size[0])\n",
    "    nbins = 9  # Number of orientation bins\n",
    "    hog = cv2.HOGDescriptor(win_size, block_size,\n",
    "                            block_stride, cell_size, nbins)\n",
    "    h = hog.compute(img)\n",
    "    h = h.flatten()\n",
    "    return h.flatten()"
   ]
  },
  {
   "cell_type": "code",
   "execution_count": 6,
   "metadata": {},
   "outputs": [],
   "source": [
    "def extract_features(img, feature_set='raw'):\n",
    "    if feature_set == 'hog':\n",
    "        return extract_hog_features(img)\n",
    "    else:\n",
    "        return extract_raw_pixels(img)"
   ]
  },
  {
   "cell_type": "code",
   "execution_count": 7,
   "metadata": {},
   "outputs": [],
   "source": [
    "def get_folder_names(directory):\n",
    "    folder_names = []\n",
    "    for root, dirs, files in os.walk(directory):\n",
    "        for name_dir in dirs:\n",
    "            folder_names.append(name_dir)\n",
    "    return folder_names"
   ]
  },
  {
   "cell_type": "code",
   "execution_count": 8,
   "metadata": {},
   "outputs": [
    {
     "name": "stdout",
     "output_type": "stream",
     "text": [
      "['Eight', 'Half', 'Quarter', 'Sixteenth', 'Whole']\n",
      "5\n"
     ]
    }
   ],
   "source": [
    "folder_list = get_folder_names('Notes')\n",
    "print(folder_list)\n",
    "print(len(folder_list))"
   ]
  },
  {
   "cell_type": "code",
   "execution_count": 9,
   "metadata": {},
   "outputs": [],
   "source": [
    "def load_dataset(feature_set='raw', dir_names=[]):\n",
    "    features = []\n",
    "    labels = []\n",
    "    count = 0\n",
    "    for dir_name in dir_names:\n",
    "        print(dir_name)\n",
    "        imgs = glob(f'{dataset_path}/{dir_name}/*.jpg')\n",
    "        count += len(imgs)\n",
    "        subset = random.sample([i for i in range(len(imgs))], min(len(imgs), sample_count))\n",
    "        for i in subset:\n",
    "            img = cv2.imread(imgs[i])\n",
    "            labels.append(dir_name)\n",
    "            features.append(extract_features(img, feature_set))\n",
    "    print(f'Total: {len(dir_names)} directories, and {count} images')\n",
    "    return features, labels"
   ]
  },
  {
   "cell_type": "code",
   "execution_count": 10,
   "metadata": {},
   "outputs": [],
   "source": [
    "def load_classifiers():\n",
    "    random_seed = 42\n",
    "    random.seed(random_seed)\n",
    "    np.random.seed(random_seed)\n",
    "\n",
    "    classifiers = {\n",
    "        'SVM': svm.LinearSVC(random_state=random_seed),\n",
    "        'KNN': KNeighborsClassifier(n_neighbors=7),\n",
    "        'NN': MLPClassifier(activation='relu', hidden_layer_sizes=(200,),\n",
    "                            max_iter=10000, alpha=1e-4,\n",
    "                            solver='adam', verbose=20,\n",
    "                            tol=1e-8, random_state=1,\n",
    "                            learning_rate_init=.0001,\n",
    "                            learning_rate='adaptive')\n",
    "    }\n",
    "    return classifiers, random_seed"
   ]
  },
  {
   "cell_type": "code",
   "execution_count": 21,
   "metadata": {},
   "outputs": [],
   "source": [
    "def run_experiment(classifier='SVM', feature_set='hog', dir_names=[]):\n",
    "    print('Loading dataset. This will take time ...')\n",
    "    features, labels = load_dataset(feature_set, dir_names)\n",
    "    print('Finished loading dataset.')\n",
    "\n",
    "    classifiers, random_seed = load_classifiers()\n",
    "\n",
    "    train_features, test_features, train_labels, test_labels = train_test_split(\n",
    "        features, labels, test_size=0.2, random_state=random_seed)\n",
    "\n",
    "    model = classifiers[classifier]\n",
    "    print('############## Training', classifier, \"##############\")\n",
    "    model.fit(train_features, train_labels)\n",
    "    accuracy = model.score(test_features, test_labels)\n",
    "    print(classifier, 'accuracy:', accuracy*100, '%')\n",
    "\n",
    "    return model, accuracy, test_features, test_labels"
   ]
  },
  {
   "cell_type": "code",
   "execution_count": 22,
   "metadata": {},
   "outputs": [
    {
     "name": "stdout",
     "output_type": "stream",
     "text": [
      "Loading dataset. This will take time ...\n",
      "Eight\n",
      "Half\n",
      "Quarter\n",
      "Sixteenth\n",
      "Whole\n",
      "Total: 5 directories, and 5000 images\n",
      "Finished loading dataset.\n",
      "############## Training SVM ##############\n",
      "SVM accuracy: 80.0 %\n"
     ]
    }
   ],
   "source": [
    "svm_model , svm_acc, svm_test_f, svm_test_l =run_experiment('SVM', 'hog', folder_list )"
   ]
  },
  {
   "cell_type": "code",
   "execution_count": null,
   "metadata": {},
   "outputs": [],
   "source": [
    "predict_test_lable = svm_model.predict"
   ]
  },
  {
   "cell_type": "code",
   "execution_count": 20,
   "metadata": {},
   "outputs": [
    {
     "data": {
      "text/plain": [
       "<matplotlib.image.AxesImage at 0x171a84309d0>"
      ]
     },
     "execution_count": 20,
     "metadata": {},
     "output_type": "execute_result"
    },
    {
     "data": {
      "image/png": "[encoded data removed]",
      "text/plain": [
       "<Figure size 640x480 with 1 Axes>"
      ]
     },
     "metadata": {},
     "output_type": "display_data"
    }
   ],
   "source": [
    "test_image = cv2.imread(\"Notes/Eight/e1.jpg\")\n",
    "plt.imshow(test_image)"
   ]
  },
  {
   "cell_type": "code",
   "execution_count": 17,
   "metadata": {},
   "outputs": [],
   "source": [
    "test_hog_features = extract_hog_features(test_image)"
   ]
  },
  {
   "cell_type": "code",
   "execution_count": 19,
   "metadata": {},
   "outputs": [
    {
     "data": {
      "text/plain": [
       "array(['Eight'], dtype='<U9')"
      ]
     },
     "execution_count": 19,
     "metadata": {},
     "output_type": "execute_result"
    }
   ],
   "source": [
    "note_name = svm_model.predict([test_hog_features])\n",
    "note_name"
   ]
  }
 ],
 "metadata": {
  "kernelspec": {
   "display_name": "base",
   "language": "python",
   "name": "python3"
  },
  "language_info": {
   "codemirror_mode": {
    "name": "ipython",
    "version": 3
   },
   "file_extension": ".py",
   "mimetype": "text/x-python",
   "name": "python",
   "nbconvert_exporter": "python",
   "pygments_lexer": "ipython3",
   "version": "3.10.9"
  },
  "orig_nbformat": 4
 },
 "nbformat": 4,
 "nbformat_minor": 2
}
